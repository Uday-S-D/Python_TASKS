{
 "cells": [
  {
   "cell_type": "code",
   "execution_count": 1,
   "id": "fd7c5fad",
   "metadata": {},
   "outputs": [],
   "source": [
    "#Task completion"
   ]
  },
  {
   "cell_type": "code",
   "execution_count": 2,
   "id": "468b1f86",
   "metadata": {},
   "outputs": [
    {
     "data": {
      "text/plain": [
       "'s = \"this is My First Python programming class and i am learNING python string and its function\"\\n1 . Try to extract data from index one to index 300 with a jump of 3 \\n2. Try to reverse a string without using reverse function \\n3. Try to split a string after conversion of entire string in uppercase \\n4. try to convert the whole string into lower case \\n5 . Try to capitalize the whole string \\n6 . Write a diference between isalnum() and isalpha()\\n7. Try to give an example of expand tab\\n8 . Give an example of strip , lstrip and rstrip \\n9.  Replace a string charecter by another charector by taking your own example \\n\"sudhanshu\"\\n10 . Try  to give a defination of string center function with and exmple \\n11 . Write your own definition of compiler and interpretor without copy paste form internet in your own language\\n12 . Python is a interpreted of compiled language give a clear ans with your understanding \\n13 . Try to write a usecase of python with your understanding .'"
      ]
     },
     "execution_count": 2,
     "metadata": {},
     "output_type": "execute_result"
    }
   ],
   "source": [
    "s = \"this is My First Python programming class and i am learNING python string and its function\"\n",
    "1 . Try to extract data from index one to index 300 with a jump of 3 \n",
    "2. Try to reverse a string without using reverse function \n",
    "3. Try to split a string after conversion of entire string in uppercase \n",
    "4. try to convert the whole string into lower case \n",
    "5 . Try to capitalize the whole string \n",
    "6 . Write a diference between isalnum() and isalpha()\n",
    "7. Try to give an example of expand tab\n",
    "8 . Give an example of strip , lstrip and rstrip \n",
    "9.  Replace a string charecter by another charector by taking your own example \n",
    "\"sudhanshu\"\n",
    "10 . Try  to give a defination of string center function with and exmple \n",
    "11 . Write your own definition of compiler and interpretor without copy paste form internet in your own language\n",
    "12 . Python is a interpreted of compiled language give a clear ans with your understanding \n",
    "13 . Try to write a usecase of python with your understanding.\n"
   ]
  },
  {
   "cell_type": "code",
   "execution_count": 4,
   "id": "02e44453",
   "metadata": {},
   "outputs": [],
   "source": [
    "s = \"this is My First Python programming class and i am learNING python string and its function\""
   ]
  },
  {
   "cell_type": "code",
   "execution_count": 12,
   "id": "3de310c3",
   "metadata": {},
   "outputs": [
    {
     "data": {
      "text/plain": [
       "'tssyityopgmncsa alrNph rgni ni'"
      ]
     },
     "execution_count": 12,
     "metadata": {},
     "output_type": "execute_result"
    }
   ],
   "source": [
    "#1\n",
    "s[0:300:3]"
   ]
  },
  {
   "cell_type": "code",
   "execution_count": 6,
   "id": "9f58706f",
   "metadata": {},
   "outputs": [
    {
     "data": {
      "text/plain": [
       "'noitcnuf sti dna gnirts nohtyp GNINrael ma i dna ssalc gnimmargorp nohtyP tsriF yM si siht'"
      ]
     },
     "execution_count": 6,
     "metadata": {},
     "output_type": "execute_result"
    }
   ],
   "source": [
    "#2\n",
    "s[::-1]"
   ]
  },
  {
   "cell_type": "code",
   "execution_count": 18,
   "id": "d59295e9",
   "metadata": {},
   "outputs": [
    {
     "data": {
      "text/plain": [
       "['THIS',\n",
       " 'IS',\n",
       " 'MY',\n",
       " 'FIRST',\n",
       " 'PYTHON',\n",
       " 'PROGRAMMING',\n",
       " 'CLASS',\n",
       " 'AND',\n",
       " 'I',\n",
       " 'AM',\n",
       " 'LEARNING',\n",
       " 'PYTHON',\n",
       " 'STRING',\n",
       " 'AND',\n",
       " 'ITS',\n",
       " 'FUNCTION']"
      ]
     },
     "execution_count": 18,
     "metadata": {},
     "output_type": "execute_result"
    }
   ],
   "source": [
    "#3\n",
    "s1=s.upper()\n",
    "s1\n",
    "s1.split()\n"
   ]
  },
  {
   "cell_type": "code",
   "execution_count": 8,
   "id": "83ce8cdf",
   "metadata": {},
   "outputs": [
    {
     "data": {
      "text/plain": [
       "'this is my first python programming class and i am learning python string and its function'"
      ]
     },
     "execution_count": 8,
     "metadata": {},
     "output_type": "execute_result"
    }
   ],
   "source": [
    "#4\n",
    "s.lower()"
   ]
  },
  {
   "cell_type": "code",
   "execution_count": 9,
   "id": "e21c876f",
   "metadata": {},
   "outputs": [
    {
     "data": {
      "text/plain": [
       "'This is my first python programming class and i am learning python string and its function'"
      ]
     },
     "execution_count": 9,
     "metadata": {},
     "output_type": "execute_result"
    }
   ],
   "source": [
    "#5\n",
    "s.capitalize()"
   ]
  },
  {
   "cell_type": "code",
   "execution_count": 10,
   "id": "3fe73514",
   "metadata": {},
   "outputs": [],
   "source": [
    "#6\n",
    "#isalnum() checks whether the string parsed is alphanumeric or not and if the string contains only alphabets then too it'll return TRUE otherwise returns FALSE:\n",
    "#isalpha() checks whether the string parsed is  only alphabet alphabet or not if alphabet the value returned will be TRUE otherwise FALSE"
   ]
  },
  {
   "cell_type": "code",
   "execution_count": 21,
   "id": "b43643e0",
   "metadata": {},
   "outputs": [
    {
     "data": {
      "text/plain": [
       "'fhkfdhgkd   12323   jfjf34354'"
      ]
     },
     "execution_count": 21,
     "metadata": {},
     "output_type": "execute_result"
    }
   ],
   "source": [
    "#7\n",
    "s2=\"fhkfdhgkd\\t12323\\tjfjf34354\"\n",
    "s2.expandtabs(4)"
   ]
  },
  {
   "cell_type": "code",
   "execution_count": 22,
   "id": "025f247c",
   "metadata": {},
   "outputs": [
    {
     "data": {
      "text/plain": [
       "'hello          '"
      ]
     },
     "execution_count": 22,
     "metadata": {},
     "output_type": "execute_result"
    }
   ],
   "source": [
    "#8\n",
    "t=\"          hello          \"\n",
    "t.lstrip()"
   ]
  },
  {
   "cell_type": "code",
   "execution_count": 23,
   "id": "95ce2e7c",
   "metadata": {},
   "outputs": [
    {
     "data": {
      "text/plain": [
       "'          hello'"
      ]
     },
     "execution_count": 23,
     "metadata": {},
     "output_type": "execute_result"
    }
   ],
   "source": [
    "t.rstrip()"
   ]
  },
  {
   "cell_type": "code",
   "execution_count": 24,
   "id": "4d78c1c2",
   "metadata": {},
   "outputs": [
    {
     "data": {
      "text/plain": [
       "'hello'"
      ]
     },
     "execution_count": 24,
     "metadata": {},
     "output_type": "execute_result"
    }
   ],
   "source": [
    "t.strip()"
   ]
  },
  {
   "cell_type": "code",
   "execution_count": 25,
   "id": "2654d5e9",
   "metadata": {},
   "outputs": [
    {
     "data": {
      "text/plain": [
       "'Python is very useful language'"
      ]
     },
     "execution_count": 25,
     "metadata": {},
     "output_type": "execute_result"
    }
   ],
   "source": [
    "#9\n",
    "r=\"this is very useful language\"\n",
    "r.replace(\"this\",\"Python\")"
   ]
  },
  {
   "cell_type": "code",
   "execution_count": 31,
   "id": "69170364",
   "metadata": {},
   "outputs": [
    {
     "data": {
      "text/plain": [
       "'**coder**'"
      ]
     },
     "execution_count": 31,
     "metadata": {},
     "output_type": "execute_result"
    }
   ],
   "source": [
    "#10.\n",
    "n=\"coder\"\n",
    "n.center(9,\"*\")"
   ]
  },
  {
   "cell_type": "code",
   "execution_count": 32,
   "id": "4305bd88",
   "metadata": {},
   "outputs": [],
   "source": [
    "#11.#In general it is belived that Python is a interpreter language but in reality neither it is a compiler language nor a interpreted language.\n",
    "#It works in two layer first the .py file is compliled to an intermediate code of .pyc then the .pyc file is directly interpreted as for final output.\n"
   ]
  },
  {
   "cell_type": "code",
   "execution_count": null,
   "id": "9124a2c4",
   "metadata": {},
   "outputs": [],
   "source": [
    "#13.\n",
    "# Web Development using  Django, Pyramid, and Flask frameworks.\n",
    "    # Scientific Computing using Numpy and Pandas\n",
    "    # Machine Learning and AI\n",
    "    # Data Visualization\n",
    "    # Game development\n",
    "    # Desktop Application using Tk library\n",
    "    # Face Detection \n",
    "    # Vehicle Number Plate Detection \n",
    "    # Stock Exchange Trading Apps that have AI for trading analysis \n",
    "    # Phone Keyboard\n",
    "    # Snapchat's Bitmoji predictor\n",
    "    # Google Map \n",
    "    # Airlines ticket price predictor"
   ]
  }
 ],
 "metadata": {
  "kernelspec": {
   "display_name": "Python 3 (ipykernel)",
   "language": "python",
   "name": "python3"
  },
  "language_info": {
   "codemirror_mode": {
    "name": "ipython",
    "version": 3
   },
   "file_extension": ".py",
   "mimetype": "text/x-python",
   "name": "python",
   "nbconvert_exporter": "python",
   "pygments_lexer": "ipython3",
   "version": "3.9.12"
  }
 },
 "nbformat": 4,
 "nbformat_minor": 5
}
